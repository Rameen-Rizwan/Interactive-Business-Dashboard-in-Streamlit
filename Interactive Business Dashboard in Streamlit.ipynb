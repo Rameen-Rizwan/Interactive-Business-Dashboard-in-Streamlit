{
 "cells": [
  {
   "cell_type": "markdown",
   "id": "6b1b1550-357d-4e43-9952-4f73aeb1e577",
   "metadata": {},
   "source": [
    "# Introduction: Interactive Business Dashboard in Streamlit"
   ]
  },
  {
   "cell_type": "markdown",
   "id": "8674cd91-d733-445c-a36e-87b40f1fe915",
   "metadata": {},
   "source": [
    "## Objective: Develop an interactive dashboard for analyzing sales, profit, and segment-wise performance"
   ]
  },
  {
   "cell_type": "markdown",
   "id": "222d04d2-3654-4cb2-8d4c-a125272cd6e2",
   "metadata": {},
   "source": [
    "### Objective 1: Import Libraries"
   ]
  },
  {
   "cell_type": "code",
   "execution_count": 2,
   "id": "19ccaaef-bd4f-4821-a057-617d92d5d85f",
   "metadata": {},
   "outputs": [],
   "source": [
    "import pandas as pd\n",
    "import numpy as np\n",
    "import matplotlib.pyplot as plt\n",
    "import seaborn as sns"
   ]
  },
  {
   "cell_type": "code",
   "execution_count": 3,
   "id": "ee2e110b-cc74-437e-967c-de6475df8af1",
   "metadata": {},
   "outputs": [
    {
     "name": "stdout",
     "output_type": "stream",
     "text": [
      "✅ Libraries imported successfully\n"
     ]
    }
   ],
   "source": [
    "print(\"✅ Libraries imported successfully\")"
   ]
  },
  {
   "cell_type": "markdown",
   "id": "0372fb18-8fed-4f8b-b557-f671985a39a7",
   "metadata": {},
   "source": [
    "### Objective 2: Load Dataset"
   ]
  },
  {
   "cell_type": "code",
   "execution_count": 4,
   "id": "11f780f0-f6c8-4078-a666-f5bfeb232e37",
   "metadata": {},
   "outputs": [],
   "source": [
    "df = pd.read_csv(\"C:/Users/luqma/Downloads/archive/superstore.csv\")"
   ]
  },
  {
   "cell_type": "code",
   "execution_count": 5,
   "id": "7abba7b9-37a6-4e07-8297-fdcb4bdb6183",
   "metadata": {},
   "outputs": [
    {
     "name": "stdout",
     "output_type": "stream",
     "text": [
      "✅ Dataset loaded successfully\n",
      "Shape of dataset: (51290, 27)\n"
     ]
    },
    {
     "data": {
      "text/html": [
       "<div>\n",
       "<style scoped>\n",
       "    .dataframe tbody tr th:only-of-type {\n",
       "        vertical-align: middle;\n",
       "    }\n",
       "\n",
       "    .dataframe tbody tr th {\n",
       "        vertical-align: top;\n",
       "    }\n",
       "\n",
       "    .dataframe thead th {\n",
       "        text-align: right;\n",
       "    }\n",
       "</style>\n",
       "<table border=\"1\" class=\"dataframe\">\n",
       "  <thead>\n",
       "    <tr style=\"text-align: right;\">\n",
       "      <th></th>\n",
       "      <th>Category</th>\n",
       "      <th>City</th>\n",
       "      <th>Country</th>\n",
       "      <th>Customer.ID</th>\n",
       "      <th>Customer.Name</th>\n",
       "      <th>Discount</th>\n",
       "      <th>Market</th>\n",
       "      <th>记录数</th>\n",
       "      <th>Order.Date</th>\n",
       "      <th>Order.ID</th>\n",
       "      <th>...</th>\n",
       "      <th>Sales</th>\n",
       "      <th>Segment</th>\n",
       "      <th>Ship.Date</th>\n",
       "      <th>Ship.Mode</th>\n",
       "      <th>Shipping.Cost</th>\n",
       "      <th>State</th>\n",
       "      <th>Sub.Category</th>\n",
       "      <th>Year</th>\n",
       "      <th>Market2</th>\n",
       "      <th>weeknum</th>\n",
       "    </tr>\n",
       "  </thead>\n",
       "  <tbody>\n",
       "    <tr>\n",
       "      <th>0</th>\n",
       "      <td>Office Supplies</td>\n",
       "      <td>Los Angeles</td>\n",
       "      <td>United States</td>\n",
       "      <td>LS-172304</td>\n",
       "      <td>Lycoris Saunders</td>\n",
       "      <td>0.0</td>\n",
       "      <td>US</td>\n",
       "      <td>1</td>\n",
       "      <td>2011-01-07 00:00:00.000</td>\n",
       "      <td>CA-2011-130813</td>\n",
       "      <td>...</td>\n",
       "      <td>19</td>\n",
       "      <td>Consumer</td>\n",
       "      <td>2011-01-09 00:00:00.000</td>\n",
       "      <td>Second Class</td>\n",
       "      <td>4.37</td>\n",
       "      <td>California</td>\n",
       "      <td>Paper</td>\n",
       "      <td>2011</td>\n",
       "      <td>North America</td>\n",
       "      <td>2</td>\n",
       "    </tr>\n",
       "    <tr>\n",
       "      <th>1</th>\n",
       "      <td>Office Supplies</td>\n",
       "      <td>Los Angeles</td>\n",
       "      <td>United States</td>\n",
       "      <td>MV-174854</td>\n",
       "      <td>Mark Van Huff</td>\n",
       "      <td>0.0</td>\n",
       "      <td>US</td>\n",
       "      <td>1</td>\n",
       "      <td>2011-01-21 00:00:00.000</td>\n",
       "      <td>CA-2011-148614</td>\n",
       "      <td>...</td>\n",
       "      <td>19</td>\n",
       "      <td>Consumer</td>\n",
       "      <td>2011-01-26 00:00:00.000</td>\n",
       "      <td>Standard Class</td>\n",
       "      <td>0.94</td>\n",
       "      <td>California</td>\n",
       "      <td>Paper</td>\n",
       "      <td>2011</td>\n",
       "      <td>North America</td>\n",
       "      <td>4</td>\n",
       "    </tr>\n",
       "    <tr>\n",
       "      <th>2</th>\n",
       "      <td>Office Supplies</td>\n",
       "      <td>Los Angeles</td>\n",
       "      <td>United States</td>\n",
       "      <td>CS-121304</td>\n",
       "      <td>Chad Sievert</td>\n",
       "      <td>0.0</td>\n",
       "      <td>US</td>\n",
       "      <td>1</td>\n",
       "      <td>2011-08-05 00:00:00.000</td>\n",
       "      <td>CA-2011-118962</td>\n",
       "      <td>...</td>\n",
       "      <td>21</td>\n",
       "      <td>Consumer</td>\n",
       "      <td>2011-08-09 00:00:00.000</td>\n",
       "      <td>Standard Class</td>\n",
       "      <td>1.81</td>\n",
       "      <td>California</td>\n",
       "      <td>Paper</td>\n",
       "      <td>2011</td>\n",
       "      <td>North America</td>\n",
       "      <td>32</td>\n",
       "    </tr>\n",
       "    <tr>\n",
       "      <th>3</th>\n",
       "      <td>Office Supplies</td>\n",
       "      <td>Los Angeles</td>\n",
       "      <td>United States</td>\n",
       "      <td>CS-121304</td>\n",
       "      <td>Chad Sievert</td>\n",
       "      <td>0.0</td>\n",
       "      <td>US</td>\n",
       "      <td>1</td>\n",
       "      <td>2011-08-05 00:00:00.000</td>\n",
       "      <td>CA-2011-118962</td>\n",
       "      <td>...</td>\n",
       "      <td>111</td>\n",
       "      <td>Consumer</td>\n",
       "      <td>2011-08-09 00:00:00.000</td>\n",
       "      <td>Standard Class</td>\n",
       "      <td>4.59</td>\n",
       "      <td>California</td>\n",
       "      <td>Paper</td>\n",
       "      <td>2011</td>\n",
       "      <td>North America</td>\n",
       "      <td>32</td>\n",
       "    </tr>\n",
       "    <tr>\n",
       "      <th>4</th>\n",
       "      <td>Office Supplies</td>\n",
       "      <td>Los Angeles</td>\n",
       "      <td>United States</td>\n",
       "      <td>AP-109154</td>\n",
       "      <td>Arthur Prichep</td>\n",
       "      <td>0.0</td>\n",
       "      <td>US</td>\n",
       "      <td>1</td>\n",
       "      <td>2011-09-29 00:00:00.000</td>\n",
       "      <td>CA-2011-146969</td>\n",
       "      <td>...</td>\n",
       "      <td>6</td>\n",
       "      <td>Consumer</td>\n",
       "      <td>2011-10-03 00:00:00.000</td>\n",
       "      <td>Standard Class</td>\n",
       "      <td>1.32</td>\n",
       "      <td>California</td>\n",
       "      <td>Paper</td>\n",
       "      <td>2011</td>\n",
       "      <td>North America</td>\n",
       "      <td>40</td>\n",
       "    </tr>\n",
       "  </tbody>\n",
       "</table>\n",
       "<p>5 rows × 27 columns</p>\n",
       "</div>"
      ],
      "text/plain": [
       "          Category         City        Country Customer.ID     Customer.Name  \\\n",
       "0  Office Supplies  Los Angeles  United States   LS-172304  Lycoris Saunders   \n",
       "1  Office Supplies  Los Angeles  United States   MV-174854     Mark Van Huff   \n",
       "2  Office Supplies  Los Angeles  United States   CS-121304      Chad Sievert   \n",
       "3  Office Supplies  Los Angeles  United States   CS-121304      Chad Sievert   \n",
       "4  Office Supplies  Los Angeles  United States   AP-109154    Arthur Prichep   \n",
       "\n",
       "   Discount Market  记录数               Order.Date        Order.ID  ... Sales  \\\n",
       "0       0.0     US    1  2011-01-07 00:00:00.000  CA-2011-130813  ...    19   \n",
       "1       0.0     US    1  2011-01-21 00:00:00.000  CA-2011-148614  ...    19   \n",
       "2       0.0     US    1  2011-08-05 00:00:00.000  CA-2011-118962  ...    21   \n",
       "3       0.0     US    1  2011-08-05 00:00:00.000  CA-2011-118962  ...   111   \n",
       "4       0.0     US    1  2011-09-29 00:00:00.000  CA-2011-146969  ...     6   \n",
       "\n",
       "    Segment                Ship.Date       Ship.Mode  Shipping.Cost  \\\n",
       "0  Consumer  2011-01-09 00:00:00.000    Second Class           4.37   \n",
       "1  Consumer  2011-01-26 00:00:00.000  Standard Class           0.94   \n",
       "2  Consumer  2011-08-09 00:00:00.000  Standard Class           1.81   \n",
       "3  Consumer  2011-08-09 00:00:00.000  Standard Class           4.59   \n",
       "4  Consumer  2011-10-03 00:00:00.000  Standard Class           1.32   \n",
       "\n",
       "        State  Sub.Category  Year        Market2 weeknum  \n",
       "0  California         Paper  2011  North America       2  \n",
       "1  California         Paper  2011  North America       4  \n",
       "2  California         Paper  2011  North America      32  \n",
       "3  California         Paper  2011  North America      32  \n",
       "4  California         Paper  2011  North America      40  \n",
       "\n",
       "[5 rows x 27 columns]"
      ]
     },
     "execution_count": 5,
     "metadata": {},
     "output_type": "execute_result"
    }
   ],
   "source": [
    "print(\"✅ Dataset loaded successfully\")\n",
    "print(\"Shape of dataset:\", df.shape)\n",
    "df.head()"
   ]
  },
  {
   "cell_type": "markdown",
   "id": "168b55e7-2a97-49f6-a26b-a8df783e249e",
   "metadata": {},
   "source": [
    "### Objective 3: Check Missing Values"
   ]
  },
  {
   "cell_type": "code",
   "execution_count": 6,
   "id": "3994a061-3cc9-47e2-8b80-7905725d051c",
   "metadata": {},
   "outputs": [
    {
     "data": {
      "text/plain": [
       "Category          0\n",
       "City              0\n",
       "Country           0\n",
       "Customer.ID       0\n",
       "Customer.Name     0\n",
       "Discount          0\n",
       "Market            0\n",
       "记录数               0\n",
       "Order.Date        0\n",
       "Order.ID          0\n",
       "Order.Priority    0\n",
       "Product.ID        0\n",
       "Product.Name      0\n",
       "Profit            0\n",
       "Quantity          0\n",
       "Region            0\n",
       "Row.ID            0\n",
       "Sales             0\n",
       "Segment           0\n",
       "Ship.Date         0\n",
       "Ship.Mode         0\n",
       "Shipping.Cost     0\n",
       "State             0\n",
       "Sub.Category      0\n",
       "Year              0\n",
       "Market2           0\n",
       "weeknum           0\n",
       "dtype: int64"
      ]
     },
     "execution_count": 6,
     "metadata": {},
     "output_type": "execute_result"
    }
   ],
   "source": [
    "df.isnull().sum()"
   ]
  },
  {
   "cell_type": "code",
   "execution_count": 7,
   "id": "58a9f212-6945-4f83-967b-3843f4b66269",
   "metadata": {},
   "outputs": [
    {
     "name": "stdout",
     "output_type": "stream",
     "text": [
      "✅ Missing values checked\n"
     ]
    }
   ],
   "source": [
    "print(\"✅ Missing values checked\")"
   ]
  },
  {
   "cell_type": "markdown",
   "id": "a4b8e82c-8fac-4681-8e06-b5595ccd414a",
   "metadata": {},
   "source": [
    "### Objective 4: Select Relevant Columns"
   ]
  },
  {
   "cell_type": "code",
   "execution_count": 8,
   "id": "8222a46c-7b69-4bf7-b726-33e3448fd744",
   "metadata": {},
   "outputs": [],
   "source": [
    "df = df[['Order.Date', 'Region', 'Category', 'Sub.Category', 'Customer.Name', 'Sales', 'Profit']]"
   ]
  },
  {
   "cell_type": "code",
   "execution_count": 9,
   "id": "e785c726-838e-46bc-91b9-f9c77444294d",
   "metadata": {},
   "outputs": [
    {
     "name": "stdout",
     "output_type": "stream",
     "text": [
      "✅ Relevant columns selected\n"
     ]
    },
    {
     "data": {
      "text/html": [
       "<div>\n",
       "<style scoped>\n",
       "    .dataframe tbody tr th:only-of-type {\n",
       "        vertical-align: middle;\n",
       "    }\n",
       "\n",
       "    .dataframe tbody tr th {\n",
       "        vertical-align: top;\n",
       "    }\n",
       "\n",
       "    .dataframe thead th {\n",
       "        text-align: right;\n",
       "    }\n",
       "</style>\n",
       "<table border=\"1\" class=\"dataframe\">\n",
       "  <thead>\n",
       "    <tr style=\"text-align: right;\">\n",
       "      <th></th>\n",
       "      <th>Order.Date</th>\n",
       "      <th>Region</th>\n",
       "      <th>Category</th>\n",
       "      <th>Sub.Category</th>\n",
       "      <th>Customer.Name</th>\n",
       "      <th>Sales</th>\n",
       "      <th>Profit</th>\n",
       "    </tr>\n",
       "  </thead>\n",
       "  <tbody>\n",
       "    <tr>\n",
       "      <th>0</th>\n",
       "      <td>2011-01-07 00:00:00.000</td>\n",
       "      <td>West</td>\n",
       "      <td>Office Supplies</td>\n",
       "      <td>Paper</td>\n",
       "      <td>Lycoris Saunders</td>\n",
       "      <td>19</td>\n",
       "      <td>9.3312</td>\n",
       "    </tr>\n",
       "    <tr>\n",
       "      <th>1</th>\n",
       "      <td>2011-01-21 00:00:00.000</td>\n",
       "      <td>West</td>\n",
       "      <td>Office Supplies</td>\n",
       "      <td>Paper</td>\n",
       "      <td>Mark Van Huff</td>\n",
       "      <td>19</td>\n",
       "      <td>9.2928</td>\n",
       "    </tr>\n",
       "    <tr>\n",
       "      <th>2</th>\n",
       "      <td>2011-08-05 00:00:00.000</td>\n",
       "      <td>West</td>\n",
       "      <td>Office Supplies</td>\n",
       "      <td>Paper</td>\n",
       "      <td>Chad Sievert</td>\n",
       "      <td>21</td>\n",
       "      <td>9.8418</td>\n",
       "    </tr>\n",
       "    <tr>\n",
       "      <th>3</th>\n",
       "      <td>2011-08-05 00:00:00.000</td>\n",
       "      <td>West</td>\n",
       "      <td>Office Supplies</td>\n",
       "      <td>Paper</td>\n",
       "      <td>Chad Sievert</td>\n",
       "      <td>111</td>\n",
       "      <td>53.2608</td>\n",
       "    </tr>\n",
       "    <tr>\n",
       "      <th>4</th>\n",
       "      <td>2011-09-29 00:00:00.000</td>\n",
       "      <td>West</td>\n",
       "      <td>Office Supplies</td>\n",
       "      <td>Paper</td>\n",
       "      <td>Arthur Prichep</td>\n",
       "      <td>6</td>\n",
       "      <td>3.1104</td>\n",
       "    </tr>\n",
       "  </tbody>\n",
       "</table>\n",
       "</div>"
      ],
      "text/plain": [
       "                Order.Date Region         Category Sub.Category  \\\n",
       "0  2011-01-07 00:00:00.000   West  Office Supplies        Paper   \n",
       "1  2011-01-21 00:00:00.000   West  Office Supplies        Paper   \n",
       "2  2011-08-05 00:00:00.000   West  Office Supplies        Paper   \n",
       "3  2011-08-05 00:00:00.000   West  Office Supplies        Paper   \n",
       "4  2011-09-29 00:00:00.000   West  Office Supplies        Paper   \n",
       "\n",
       "      Customer.Name  Sales   Profit  \n",
       "0  Lycoris Saunders     19   9.3312  \n",
       "1     Mark Van Huff     19   9.2928  \n",
       "2      Chad Sievert     21   9.8418  \n",
       "3      Chad Sievert    111  53.2608  \n",
       "4    Arthur Prichep      6   3.1104  "
      ]
     },
     "execution_count": 9,
     "metadata": {},
     "output_type": "execute_result"
    }
   ],
   "source": [
    "print(\"✅ Relevant columns selected\")\n",
    "df.head()"
   ]
  },
  {
   "cell_type": "markdown",
   "id": "33572cef-fc73-4025-be57-e5c78c8a3c19",
   "metadata": {},
   "source": [
    "### Objective 5: Convert Date Column"
   ]
  },
  {
   "cell_type": "code",
   "execution_count": 10,
   "id": "5c7f16f8-75f9-4e37-bbc1-4902d30a5c55",
   "metadata": {},
   "outputs": [],
   "source": [
    "df['Order.Date'] = pd.to_datetime(df['Order.Date'])"
   ]
  },
  {
   "cell_type": "code",
   "execution_count": 11,
   "id": "35218524-bb2a-4607-b801-32e192e2a790",
   "metadata": {},
   "outputs": [
    {
     "name": "stdout",
     "output_type": "stream",
     "text": [
      "✅ Order Date column converted to datetime\n"
     ]
    }
   ],
   "source": [
    "print(\"✅ Order Date column converted to datetime\")"
   ]
  },
  {
   "cell_type": "markdown",
   "id": "4e4437bd-323e-4355-af1d-ffaaa7d95d84",
   "metadata": {},
   "source": [
    "### Objective 6: Quick Descriptive Statistics"
   ]
  },
  {
   "cell_type": "code",
   "execution_count": 12,
   "id": "3274f8c3-64e8-45e4-83ab-ded93f34942e",
   "metadata": {},
   "outputs": [
    {
     "name": "stdout",
     "output_type": "stream",
     "text": [
      "✅ Descriptive statistics generated\n"
     ]
    }
   ],
   "source": [
    "df.describe()\n",
    "print(\"✅ Descriptive statistics generated\")"
   ]
  },
  {
   "cell_type": "markdown",
   "id": "e1feaf42-7bb7-41b0-a32b-8d39d60b58f9",
   "metadata": {},
   "source": [
    "### Objective 7: Save Cleaned Dataset (for Streamlit)"
   ]
  },
  {
   "cell_type": "code",
   "execution_count": 13,
   "id": "94e5a1e3-2838-4356-883f-0352706afc9a",
   "metadata": {},
   "outputs": [
    {
     "name": "stdout",
     "output_type": "stream",
     "text": [
      "✅ Cleaned dataset saved as cleaned_superstore.csv\n"
     ]
    }
   ],
   "source": [
    "df.to_csv(\"cleaned_superstore.csv\", index=False)\n",
    "print(\"✅ Cleaned dataset saved as cleaned_superstore.csv\")\n"
   ]
  },
  {
   "cell_type": "markdown",
   "id": "2eea4930-9c09-4291-b135-43e2d03d179f",
   "metadata": {},
   "source": [
    "# 📌 Project Workflow Note  \n",
    "This project is divided into **two parts** for better clarity and organization:  \n",
    "\n",
    "---\n",
    "\n",
    "## 1️⃣ Data Cleaning (Jupyter Notebook)  \n",
    "- This Jupyter Notebook is focused only on **loading, cleaning, and preprocessing the dataset (CSV file)**.  \n",
    "- After cleaning, the **dataset is saved** so it can be used in the dashboard.  \n",
    "- Purpose: Ensure the data is **ready, accurate, and consistent** before visualization.  \n",
    "\n",
    "---\n",
    "\n",
    "## 2️⃣ Dashboard Development (Visual Studio Code - `app.py`)  \n",
    "- The **Streamlit dashboard and UI code** are written in **Visual Studio Code** inside the file `app.py`.  \n",
    "- The `app.py` file **uses the cleaned dataset** created in this notebook.  \n",
    "- Purpose: Build an **interactive dashboard** for visualization and data exploration.  \n",
    "\n",
    "---\n",
    "\n",
    "✅ **Summary**:  \n",
    "- **This Notebook = Data Cleaning & Saving Dataset**  \n",
    "- **`app.py` (VS Code) = Streamlit Dashboard & UI** "
   ]
  }
 ],
 "metadata": {
  "kernelspec": {
   "display_name": "Python 3 (ipykernel)",
   "language": "python",
   "name": "python3"
  },
  "language_info": {
   "codemirror_mode": {
    "name": "ipython",
    "version": 3
   },
   "file_extension": ".py",
   "mimetype": "text/x-python",
   "name": "python",
   "nbconvert_exporter": "python",
   "pygments_lexer": "ipython3",
   "version": "3.13.2"
  }
 },
 "nbformat": 4,
 "nbformat_minor": 5
}
